{
 "cells": [
  {
   "cell_type": "code",
   "execution_count": 8,
   "id": "950f8a73",
   "metadata": {},
   "outputs": [
    {
     "name": "stdout",
     "output_type": "stream",
     "text": [
      "Twinkle, twinkle, little star\n",
      "How I wonder what you are!\n",
      "Up above the world so high\n",
      "like a diamond in the sky.\n",
      "Twinkle, twinkle, little star\n",
      "How I wonder what you are!\n"
     ]
    }
   ],
   "source": [
    "print(\"Twinkle, twinkle, little star\");\n",
    "print(\"How I wonder what you are!\");\n",
    "print(\"Up above the world so high\");\n",
    "print(\"like a diamond in the sky.\");\n",
    "print(\"Twinkle, twinkle, little star\");\n",
    "print(\"How I wonder what you are!\");"
   ]
  },
  {
   "cell_type": "code",
   "execution_count": 9,
   "id": "11554b04",
   "metadata": {},
   "outputs": [
    {
     "name": "stdout",
     "output_type": "stream",
     "text": [
      "python version\n",
      "3.9.7 (default, Sep 16 2021, 16:59:28) [MSC v.1916 64 bit (AMD64)]\n",
      "python info\n",
      "sys.version_info(major=3, minor=9, micro=7, releaselevel='final', serial=0)\n"
     ]
    }
   ],
   "source": [
    "import sys\n",
    "print(\"python version\")\n",
    "print(sys.version)\n",
    "print(\"python info\")\n",
    "print(sys.version_info)"
   ]
  },
  {
   "cell_type": "code",
   "execution_count": 10,
   "id": "06d91208",
   "metadata": {},
   "outputs": [
    {
     "name": "stdout",
     "output_type": "stream",
     "text": [
      "current date and time\n",
      "22-01-01 18:49:24\n"
     ]
    }
   ],
   "source": [
    "import datetime\n",
    "now=datetime.datetime.now()\n",
    "print(\"current date and time\")\n",
    "print(now.strftime(\"%y-%m-%d %H:%M:%S\"))"
   ]
  },
  {
   "cell_type": "code",
   "execution_count": 11,
   "id": "1e203ef0",
   "metadata": {},
   "outputs": [
    {
     "name": "stdout",
     "output_type": "stream",
     "text": [
      "Enter the radius of the circle3\n",
      "area of circle is: 28.259999999999998\n"
     ]
    }
   ],
   "source": [
    "radius= float (input(\"Enter the radius of the circle\"))\n",
    "area=3.14*radius*radius\n",
    "print(\"area of circle is:\",area)"
   ]
  },
  {
   "cell_type": "code",
   "execution_count": 13,
   "id": "132bed0c",
   "metadata": {},
   "outputs": [
    {
     "name": "stdout",
     "output_type": "stream",
     "text": [
      "Muhammad :Mujtaba\n",
      "Mujtaba :Muhammad\n",
      "Mujtaba Muhammad =Muhammad Mujtaba\n"
     ]
    }
   ],
   "source": [
    "fname=input(\"Muhammad :\")\n",
    "lname=input(\"Mujtaba :\")\n",
    "print(\"Mujtaba Muhammad =\"+lname+\" \"+fname)"
   ]
  },
  {
   "cell_type": "code",
   "execution_count": 14,
   "id": "a392c705",
   "metadata": {},
   "outputs": [
    {
     "name": "stdout",
     "output_type": "stream",
     "text": [
      "45\n"
     ]
    }
   ],
   "source": [
    "a=10\n",
    "b=35\n",
    "c=a+b\n",
    "print(c)"
   ]
  },
  {
   "cell_type": "code",
   "execution_count": null,
   "id": "23a6b591",
   "metadata": {},
   "outputs": [],
   "source": []
  }
 ],
 "metadata": {
  "kernelspec": {
   "display_name": "Python 3 (ipykernel)",
   "language": "python",
   "name": "python3"
  },
  "language_info": {
   "codemirror_mode": {
    "name": "ipython",
    "version": 3
   },
   "file_extension": ".py",
   "mimetype": "text/x-python",
   "name": "python",
   "nbconvert_exporter": "python",
   "pygments_lexer": "ipython3",
   "version": "3.9.7"
  }
 },
 "nbformat": 4,
 "nbformat_minor": 5
}
